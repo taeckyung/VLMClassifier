{
 "cells": [
  {
   "cell_type": "code",
   "execution_count": 3,
   "metadata": {},
   "outputs": [
    {
     "name": "stdout",
     "output_type": "stream",
     "text": [
      "50000 85.668\n"
     ]
    }
   ],
   "source": [
    "import json\n",
    "import numpy as np\n",
    "\n",
    "\n",
    "dataset = \"imagenet\"\n",
    "lora = False\n",
    "\n",
    "if dataset == \"imagenet\":\n",
    "    # output_path = \"imagenet_llava_val_finetuned_imagenet_and_llava_1epoch.jsonl\"\n",
    "    output_path = \"imagenet_llava_val_finetuned_1epochs.jsonl\"\n",
    "elif dataset == \"flowers\":\n",
    "    output_path = \"flowers_llava_val_finetuned_100epochs.jsonl\"\n",
    "elif dataset == \"cars\":\n",
    "    output_path = \"cars_llava_val_finetuned_100epochs.jsonl\"\n",
    "elif dataset == \"caltech\":\n",
    "    output_path = \"caltech_llava_val_finetuned_100epochs.jsonl\"\n",
    "\n",
    "if lora:\n",
    "    output_path = output_path.replace(\".jsonl\", \"_lora.jsonl\")\n",
    "\n",
    "answers = [json.loads(line) for line in open(output_path)]\n",
    "labels = [\"-\".join(item[\"question_id\"].split(\"-\")[1:]) for item in answers]\n",
    "\n",
    "preds = [item[\"text\"] for item in answers]\n",
    "acc = (\n",
    "    np.mean([label.lower() == pred.lower() for label, pred in zip(labels, preds)]) * 100\n",
    ")\n",
    "\n",
    "print(len(labels), acc)"
   ]
  }
 ],
 "metadata": {
  "kernelspec": {
   "display_name": "vlmhf",
   "language": "python",
   "name": "python3"
  },
  "language_info": {
   "codemirror_mode": {
    "name": "ipython",
    "version": 3
   },
   "file_extension": ".py",
   "mimetype": "text/x-python",
   "name": "python",
   "nbconvert_exporter": "python",
   "pygments_lexer": "ipython3",
   "version": "3.10.14"
  }
 },
 "nbformat": 4,
 "nbformat_minor": 2
}
