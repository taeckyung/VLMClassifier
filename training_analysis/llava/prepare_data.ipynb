{
 "cells": [
  {
   "cell_type": "markdown",
   "metadata": {},
   "source": [
    "# Convert Data"
   ]
  },
  {
   "cell_type": "code",
   "execution_count": 1,
   "metadata": {},
   "outputs": [],
   "source": [
    "import json\n",
    "import random\n",
    "\n",
    "dataset = \"imagenet\"\n",
    "\n",
    "data = [json.loads(line) for line in open(f\"../../../../data/{dataset}.jsonl\")]\n",
    "data = [item for item in data if item[\"split\"] == \"train\"]\n",
    "random.seed(1234)\n",
    "random.shuffle(data)\n",
    "\n",
    "new_data = []\n",
    "for idx, item in enumerate(data):\n",
    "    new_item = {\n",
    "        \"id\": f'{idx}-{item[\"label\"]}',\n",
    "        \"image\": item[\"image\"],\n",
    "        \"conversations\": [\n",
    "            {\"from\": \"human\", \"value\": \"<image>\\nWhat type of object is in the photo?\"},\n",
    "            {\"from\": \"gpt\", \"value\": f'{item[\"label\"]}'},\n",
    "        ],\n",
    "    }\n",
    "    new_data.append(new_item)\n",
    "json.dump(new_data, open(f\"{dataset}_llava_train.json\", \"w\"), indent=2)\n",
    "\n",
    "data = [json.loads(line) for line in open(f\"../../../../data/{dataset}.jsonl\")]\n",
    "data = [item for item in data if item[\"split\"] == \"valid\"]\n",
    "random.seed(1234)\n",
    "random.shuffle(data)\n",
    "\n",
    "new_data = []\n",
    "for idx, item in enumerate(data):\n",
    "    new_item = {\n",
    "        \"image\": item[\"image\"],\n",
    "        \"text\": \"What type of object is in the photo?\",\n",
    "        \"category\": \"conv\",\n",
    "        \"label\": item[\"label\"],\n",
    "        \"question_id\": f'{idx}-{item[\"label\"]}',\n",
    "    }\n",
    "    new_data.append(new_item)\n",
    "\n",
    "with open(f\"{dataset}_llava_val.jsonl\", \"w\") as f:\n",
    "    for item in new_data:\n",
    "        f.write(json.dumps(item) + \"\\n\")"
   ]
  },
  {
   "cell_type": "markdown",
   "metadata": {},
   "source": [
    "# ImageNet Training Set + LLaVA"
   ]
  },
  {
   "cell_type": "code",
   "execution_count": 1,
   "metadata": {},
   "outputs": [],
   "source": [
    "import json\n",
    "import random\n",
    "\n",
    "imagenet = json.load(open(\"imagenet_llava_train_full.jsonl\"))\n",
    "llava = json.load(open(\"llava_v1_5_mix665k.json\"))\n",
    "\n",
    "new_data = imagenet + llava\n",
    "\n",
    "random.seed(1234)\n",
    "random.shuffle(new_data)\n",
    "json.dump(new_data, open(\"imagenet_and_llava.json\", \"w\"), indent=2)"
   ]
  },
  {
   "cell_type": "code",
   "execution_count": 6,
   "metadata": {},
   "outputs": [],
   "source": []
  },
  {
   "cell_type": "code",
   "execution_count": null,
   "metadata": {},
   "outputs": [],
   "source": []
  },
  {
   "cell_type": "code",
   "execution_count": null,
   "metadata": {},
   "outputs": [],
   "source": []
  }
 ],
 "metadata": {
  "kernelspec": {
   "display_name": "py310",
   "language": "python",
   "name": "python3"
  },
  "language_info": {
   "codemirror_mode": {
    "name": "ipython",
    "version": 3
   },
   "file_extension": ".py",
   "mimetype": "text/x-python",
   "name": "python",
   "nbconvert_exporter": "python",
   "pygments_lexer": "ipython3",
   "version": "3.10.14"
  }
 },
 "nbformat": 4,
 "nbformat_minor": 2
}
